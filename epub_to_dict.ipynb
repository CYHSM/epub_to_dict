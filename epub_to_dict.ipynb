{
 "cells": [
  {
   "cell_type": "code",
   "execution_count": null,
   "metadata": {},
   "outputs": [],
   "source": [
    "# For translation\n",
    "from yandex_translate import YandexTranslate\n",
    "# Writing to xdxf\n",
    "import xmltodict\n",
    "from collections import OrderedDict"
   ]
  },
  {
   "cell_type": "markdown",
   "metadata": {},
   "source": [
    "---\n",
    "---\n",
    "# Functions"
   ]
  },
  {
   "cell_type": "code",
   "execution_count": 1,
   "metadata": {},
   "outputs": [],
   "source": [
    "def order_dict(word, translation_de, translation_en):\n",
    "    return OrderedDict({'k' : word, '#text' : 'German: {} \\n English: {}'.format(translation_de, translation_en)})\n",
    "\n",
    "def get_unique_words_from_book(fn_book):\n",
    "    with open(fn_book) as infile:\n",
    "        lst = []\n",
    "        for line in infile:\n",
    "            words = line.split()\n",
    "            for word in words:\n",
    "                word = word.lower()\n",
    "                if word.isalpha():\n",
    "                    if word not in lst:\n",
    "                        lst.append(word)\n",
    "        lst.sort()\n",
    "    return lst"
   ]
  },
  {
   "cell_type": "markdown",
   "metadata": {},
   "source": [
    "---\n",
    "---\n",
    "# Initialize parameters"
   ]
  },
  {
   "cell_type": "code",
   "execution_count": null,
   "metadata": {},
   "outputs": [],
   "source": [
    "fn_book = 'yourbook.txt'\n",
    "template_dict = 'template.xdxf'\n",
    "# Initialize translation with dev. key\n",
    "ykey = \"YourKeyHere\"\n",
    "translate = YandexTranslate(ykey)\n",
    "#Read template dict\n",
    "with open(template_dict) as sxml:\n",
    "    data = xmltodict.parse(sxml.read())\n",
    "# Get list from book\n",
    "lst = get_unique_words_from_book(fn_book)"
   ]
  },
  {
   "cell_type": "markdown",
   "metadata": {},
   "source": [
    "---\n",
    "---\n",
    "# Start translation"
   ]
  },
  {
   "cell_type": "code",
   "execution_count": null,
   "metadata": {},
   "outputs": [],
   "source": [
    "new_list = list()\n",
    "# I decided to add two different translations to the dict and also added the capitalized version\n",
    "for idx, word in enumerate(lst):\n",
    "    translated_de = translate.translate(word, 'no-de')\n",
    "    translated_en = translate.translate(word, 'no-en')\n",
    "    translation_de = translated_de['text'][0]\n",
    "    translation_en = translated_en['text'][0]\n",
    "    new_list.append(order_dict(word, translation_de, translation_en))\n",
    "    new_list.append(order_dict(word.capitalize(), translation_de, translation_en))\n",
    "    \n",
    "    if not idx % 10:\n",
    "        print('{} / {} --> Word {} - Translation {} - {}'.format(idx, len(lst), word, translation_de, translation_en))"
   ]
  },
  {
   "cell_type": "markdown",
   "metadata": {},
   "source": [
    "---\n",
    "---\n",
    "# Write to file"
   ]
  },
  {
   "cell_type": "code",
   "execution_count": null,
   "metadata": {},
   "outputs": [],
   "source": [
    "data['xdxf']['ar'] = new_list\n",
    "with open('result_dict.xdxf', 'w') as result_file:\n",
    "    result_file.write(xmltodict.unparse(data))"
   ]
  },
  {
   "cell_type": "code",
   "execution_count": null,
   "metadata": {},
   "outputs": [],
   "source": []
  }
 ],
 "metadata": {
  "kernelspec": {
   "display_name": "Python 3",
   "language": "python",
   "name": "python3"
  },
  "language_info": {
   "codemirror_mode": {
    "name": "ipython",
    "version": 3
   },
   "file_extension": ".py",
   "mimetype": "text/x-python",
   "name": "python",
   "nbconvert_exporter": "python",
   "pygments_lexer": "ipython3",
   "version": "3.6.8"
  }
 },
 "nbformat": 4,
 "nbformat_minor": 2
}
